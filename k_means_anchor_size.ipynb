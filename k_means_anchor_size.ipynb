{
 "cells": [
  {
   "cell_type": "markdown",
   "metadata": {},
   "source": [
    "# The notebook uses the k-means clustering algorithm to derive the highest anchor ratio of the IOU."
   ]
  },
  {
   "cell_type": "markdown",
   "metadata": {},
   "source": [
    "## Define the core method"
   ]
  },
  {
   "cell_type": "markdown",
   "metadata": {},
   "source": [
    "Import core packages"
   ]
  },
  {
   "cell_type": "code",
   "execution_count": 1,
   "metadata": {},
   "outputs": [],
   "source": [
    "import numpy as np"
   ]
  },
  {
   "cell_type": "markdown",
   "metadata": {},
   "source": [
    "### Method of IoU calculation"
   ]
  },
  {
   "cell_type": "code",
   "execution_count": 3,
   "metadata": {},
   "outputs": [],
   "source": [
    "def iou(box, clusters):\n",
    "    \"\"\"\n",
    "    Calculates the Intersection over Union (IoU) between a box and k clusters.\n",
    "    :param box: tuple or array, shifted to the origin (i. e. width and height)\n",
    "    :param clusters: numpy array of shape (k, 2) where k is the number of clusters\n",
    "    :return: numpy array of shape (k, 0) where k is the number of clusters\n",
    "    \"\"\"\n",
    "    x = np.minimum(clusters[:, 0], box[0])\n",
    "    y = np.minimum(clusters[:, 1], box[1])\n",
    "    if np.count_nonzero(x == 0) > 0 or np.count_nonzero(y == 0) > 0:\n",
    "        raise ValueError(\"Box has no area\")\n",
    "\n",
    "    intersection = x * y\n",
    "    box_area = box[0] * box[1]\n",
    "    cluster_area = clusters[:, 0] * clusters[:, 1]\n",
    "\n",
    "    iou_ = intersection / (box_area + cluster_area - intersection)\n",
    "\n",
    "    return iou_\n",
    "\n",
    "def avg_iou(boxes, clusters):\n",
    "    \"\"\"\n",
    "    Calculates the average Intersection over Union (IoU) between a numpy array of boxes and k clusters.\n",
    "    :param boxes: numpy array of shape (r, 2), where r is the number of rows\n",
    "    :param clusters: numpy array of shape (k, 2) where k is the number of clusters\n",
    "    :return: average IoU as a single float\n",
    "    \"\"\"\n",
    "    return np.mean([np.max(iou(boxes[i], clusters)) for i in range(boxes.shape[0])])\n",
    "\n",
    "\n",
    "def translate_boxes(boxes):\n",
    "    \"\"\"\n",
    "    Translates all the boxes to the origin.\n",
    "    :param boxes: numpy array of shape (r, 4)\n",
    "    :return: numpy array of shape (r, 2)\n",
    "    \"\"\"\n",
    "    new_boxes = boxes.copy()\n",
    "    for row in range(new_boxes.shape[0]):\n",
    "        new_boxes[row][2] = np.abs(new_boxes[row][2] - new_boxes[row][0])\n",
    "        new_boxes[row][3] = np.abs(new_boxes[row][3] - new_boxes[row][1])\n",
    "    return np.delete(new_boxes, [0, 1], axis=1)\n",
    "\n",
    "\n",
    "def kmeans(boxes, k, dist=np.median):\n",
    "    \"\"\"\n",
    "    Calculates k-means clustering with the Intersection over Union (IoU) metric.\n",
    "    :param boxes: numpy array of shape (r, 2), where r is the number of rows\n",
    "    :param k: number of clusters\n",
    "    :param dist: distance function\n",
    "    :return: numpy array of shape (k, 2)\n",
    "    \"\"\"\n",
    "    rows = boxes.shape[0]\n",
    "\n",
    "    distances = np.empty((rows, k))\n",
    "    last_clusters = np.zeros((rows,))\n",
    "\n",
    "    np.random.seed()\n",
    "\n",
    "    # the Forgy method will fail if the whole array contains the same rows\n",
    "    clusters = boxes[np.random.choice(rows, k, replace=False)]\n",
    "\n",
    "    while True:\n",
    "        for row in range(rows):\n",
    "            distances[row] = 1 - iou(boxes[row], clusters)\n",
    "\n",
    "        nearest_clusters = np.argmin(distances, axis=1)\n",
    "\n",
    "        if (last_clusters == nearest_clusters).all():\n",
    "            break\n",
    "\n",
    "        for cluster in range(k):\n",
    "            clusters[cluster] = dist(boxes[nearest_clusters == cluster], axis=0)\n",
    "\n",
    "        last_clusters = nearest_clusters\n",
    "\n",
    "    return clusters"
   ]
  },
  {
   "cell_type": "markdown",
   "metadata": {},
   "source": [
    "## Write analysis codes"
   ]
  },
  {
   "cell_type": "markdown",
   "metadata": {},
   "source": [
    "Import packages"
   ]
  },
  {
   "cell_type": "code",
   "execution_count": 14,
   "metadata": {},
   "outputs": [],
   "source": [
    "import glob\n",
    "import xml.etree.ElementTree as ET\n",
    "import cv2"
   ]
  },
  {
   "cell_type": "markdown",
   "metadata": {},
   "source": [
    "### Import load XML annotations function"
   ]
  },
  {
   "cell_type": "code",
   "execution_count": 19,
   "metadata": {},
   "outputs": [],
   "source": [
    "def load_dataset(path):\n",
    "    dataset = []\n",
    "    paths = [p.replace(\"\\\\\", '/') for p in glob.glob(\"{}/*.xml\".format(path))]\n",
    "    print(\"Get %d xmls\" % len(paths))\n",
    "    for xml_file in paths:\n",
    "        tree = ET.parse(xml_file)\n",
    "        img_file = xml_file.replace(\".xml\", \".jpg\")\n",
    "        height, width = cv2.imread(img_file, 0).shape\n",
    "\n",
    "        # height = int(tree.findtext(\"./size/height\"))\n",
    "        # width = int(tree.findtext(\"./size/width\"))\n",
    "        # if H == height and W == width:\n",
    "        #     print(\"Pass.\")\n",
    "\n",
    "        for obj in tree.iter(\"object\"):\n",
    "            xmin = int(obj.findtext(\"bndbox/xmin\")) / width\n",
    "            ymin = int(obj.findtext(\"bndbox/ymin\")) / height\n",
    "            xmax = int(obj.findtext(\"bndbox/xmax\")) / width\n",
    "            ymax = int(obj.findtext(\"bndbox/ymax\")) / height\n",
    "\n",
    "            dataset.append([xmax - xmin, ymax - ymin])\n",
    "\n",
    "    return np.array(dataset)"
   ]
  },
  {
   "cell_type": "code",
   "execution_count": null,
   "metadata": {},
   "outputs": [],
   "source": [
    "ANNOTATIONS_PATH = \"path/to/train\""
   ]
  },
  {
   "cell_type": "markdown",
   "metadata": {},
   "source": [
    "### Number of cluster, cluster = 3"
   ]
  },
  {
   "cell_type": "code",
   "execution_count": 20,
   "metadata": {},
   "outputs": [
    {
     "name": "stdout",
     "output_type": "stream",
     "text": [
      "Get 635 xmls\n",
      "Accuracy: 78.03%\n",
      "Boxes:\n",
      " [[0.51944444 0.4453125 ]\n",
      " [0.93240741 0.40026042]\n",
      " [0.78796296 0.77152778]]\n",
      "Ratios:\n",
      " [1.02, 1.17, 2.33]\n"
     ]
    }
   ],
   "source": [
    "CLUSTERS = 3\n",
    "data = load_dataset(ANNOTATIONS_PATH)\n",
    "out = kmeans(data, k=CLUSTERS)\n",
    "print(\"Accuracy: {:.2f}%\".format(avg_iou(data, out) * 100))\n",
    "print(\"Boxes:\\n {}\".format(out))\n",
    "\n",
    "ratios = np.around(out[:, 0] / out[:, 1], decimals=2).tolist()\n",
    "print(\"Ratios:\\n {}\".format(sorted(ratios)))"
   ]
  },
  {
   "cell_type": "markdown",
   "metadata": {},
   "source": [
    "### Number of cluster, cluster = 5"
   ]
  },
  {
   "cell_type": "code",
   "execution_count": 21,
   "metadata": {
    "scrolled": true
   },
   "outputs": [
    {
     "name": "stdout",
     "output_type": "stream",
     "text": [
      "Get 635 xmls\n",
      "Accuracy: 82.22%\n",
      "Boxes:\n",
      " [[0.91759259 0.36619792]\n",
      " [0.66203704 0.59314693]\n",
      " [0.82037037 0.8140625 ]\n",
      " [0.95       0.48776042]\n",
      " [0.49166667 0.4203125 ]]\n",
      "Ratios:\n",
      " [1.01, 1.12, 1.17, 1.95, 2.51]\n"
     ]
    }
   ],
   "source": [
    "CLUSTERS = 5\n",
    "data = load_dataset(ANNOTATIONS_PATH)\n",
    "out = kmeans(data, k=CLUSTERS)\n",
    "print(\"Accuracy: {:.2f}%\".format(avg_iou(data, out) * 100))\n",
    "print(\"Boxes:\\n {}\".format(out))\n",
    "\n",
    "ratios = np.around(out[:, 0] / out[:, 1], decimals=2).tolist()\n",
    "print(\"Ratios:\\n {}\".format(sorted(ratios)))"
   ]
  },
  {
   "cell_type": "markdown",
   "metadata": {},
   "source": [
    "### Number of cluster, cluster = 7"
   ]
  },
  {
   "cell_type": "code",
   "execution_count": 22,
   "metadata": {},
   "outputs": [
    {
     "name": "stdout",
     "output_type": "stream",
     "text": [
      "Get 635 xmls\n",
      "Accuracy: 84.41%\n",
      "Boxes:\n",
      " [[0.47546296 0.4171875 ]\n",
      " [0.82314815 0.67135417]\n",
      " [0.91203704 0.87207602]\n",
      " [0.63287037 0.54162809]\n",
      " [0.97361111 0.48368056]\n",
      " [0.71196755 0.80555556]\n",
      " [0.91666667 0.36614583]]\n",
      "Ratios:\n",
      " [0.88, 1.05, 1.14, 1.17, 1.23, 2.01, 2.5]\n"
     ]
    }
   ],
   "source": [
    "CLUSTERS = 7\n",
    "data = load_dataset(ANNOTATIONS_PATH)\n",
    "out = kmeans(data, k=CLUSTERS)\n",
    "print(\"Accuracy: {:.2f}%\".format(avg_iou(data, out) * 100))\n",
    "print(\"Boxes:\\n {}\".format(out))\n",
    "\n",
    "ratios = np.around(out[:, 0] / out[:, 1], decimals=2).tolist()\n",
    "print(\"Ratios:\\n {}\".format(sorted(ratios)))"
   ]
  },
  {
   "cell_type": "markdown",
   "metadata": {},
   "source": [
    "### Number of cluster, cluster = 9"
   ]
  },
  {
   "cell_type": "code",
   "execution_count": 23,
   "metadata": {},
   "outputs": [
    {
     "name": "stdout",
     "output_type": "stream",
     "text": [
      "Get 635 xmls\n",
      "Accuracy: 85.67%\n",
      "Boxes:\n",
      " [[0.44074074 0.40104167]\n",
      " [0.85740741 0.68385417]\n",
      " [0.92685185 0.87986111]\n",
      " [0.91712963 0.36619792]\n",
      " [0.68461538 0.61875   ]\n",
      " [0.73101852 0.82357625]\n",
      " [0.59305556 0.50651042]\n",
      " [0.54490741 0.42161458]\n",
      " [0.97361111 0.48368056]]\n",
      "Ratios:\n",
      " [0.89, 1.05, 1.1, 1.11, 1.17, 1.25, 1.29, 2.01, 2.5]\n"
     ]
    }
   ],
   "source": [
    "CLUSTERS = 9\n",
    "data = load_dataset(ANNOTATIONS_PATH)\n",
    "out = kmeans(data, k=CLUSTERS)\n",
    "print(\"Accuracy: {:.2f}%\".format(avg_iou(data, out) * 100))\n",
    "print(\"Boxes:\\n {}\".format(out))\n",
    "\n",
    "ratios = np.around(out[:, 0] / out[:, 1], decimals=2).tolist()\n",
    "print(\"Ratios:\\n {}\".format(sorted(ratios)))"
   ]
  }
 ],
 "metadata": {
  "kernelspec": {
   "display_name": "Python 3",
   "language": "python",
   "name": "python3"
  },
  "language_info": {
   "codemirror_mode": {
    "name": "ipython",
    "version": 3
   },
   "file_extension": ".py",
   "mimetype": "text/x-python",
   "name": "python",
   "nbconvert_exporter": "python",
   "pygments_lexer": "ipython3",
   "version": "3.5.4"
  },
  "toc": {
   "base_numbering": 1,
   "nav_menu": {},
   "number_sections": true,
   "sideBar": true,
   "skip_h1_title": false,
   "title_cell": "Table of Contents",
   "title_sidebar": "Contents",
   "toc_cell": false,
   "toc_position": {},
   "toc_section_display": true,
   "toc_window_display": false
  }
 },
 "nbformat": 4,
 "nbformat_minor": 2
}
